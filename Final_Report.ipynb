{
 "cells": [
  {
   "cell_type": "markdown",
   "metadata": {},
   "source": [
    "# REPORT: The Battle of the Neighborhoods"
   ]
  },
  {
   "cell_type": "markdown",
   "metadata": {},
   "source": [
    "Table of contents\n",
    "\n",
    "Introduction:\n",
    "\n",
    "* Business Problem\n",
    "* Data\n",
    "* Methodology\n",
    "* Analysis\n",
    "* Results and Discussion\n",
    "* Conclusion"
   ]
  },
  {
   "cell_type": "markdown",
   "metadata": {},
   "source": [
    "## Introduction"
   ]
  },
  {
   "attachments": {},
   "cell_type": "markdown",
   "metadata": {},
   "source": [
    "In this project we will explore data from the city of New York.\n",
    "\n",
    "New York City is one of the most populous city in United States with a population of 8.39 million in 2020.  It is a hub of diverse cultures combining all facets of the globe.  NYC is a major industrial center & the financial capital of the world. There are 5 boroughs in the city, and with such a large geographical area there is a huge competition between companies. Thus, there is a big challenge in figuring out the most ideal spots to open up a new business & maximizing profits."
   ]
  },
  {
   "cell_type": "markdown",
   "metadata": {},
   "source": [
    "## Business Problem"
   ]
  },
  {
   "attachments": {},
   "cell_type": "markdown",
   "metadata": {},
   "source": [
    "The aim is to identify the best place to open a new Chinese food restaurant in the city, & which location would be the most appropriate, while taking into account the competitors & the inhabitants of the different neighborhoods of the city. We’ll use the data analytics methodologies that we learned from the IBM Coursera certificate to analyze & visualize relevant information to come to a conclusion."
   ]
  },
  {
   "cell_type": "markdown",
   "metadata": {},
   "source": [
    "## Target Audience & Demographic Facts"
   ]
  },
  {
   "attachments": {},
   "cell_type": "markdown",
   "metadata": {},
   "source": [
    "For our project, the target audience are developers & investors who might be interested in opening up a Chinese restaurant in the city of New York.  Since this is such an ethnically diverse hub, there many cuisine categories such as Japanese, Indian, Mexican, etc. Chinese restaurants have become very popular through out the United States & we wanted to see how it stacked with other cuisines in the state."
   ]
  },
  {
   "cell_type": "markdown",
   "metadata": {},
   "source": [
    "## Data"
   ]
  },
  {
   "cell_type": "markdown",
   "metadata": {},
   "source": [
    "For the below analysis we will get data from wikipedia as given below: New York Population New York City Demographics Cuisine of New York City \n",
    "\n",
    "* https://en.wikipedia.org/wiki/New_York_City \n",
    "* https://en.wikipedia.org/wiki/Economy_of_New_York_City \n",
    "* https://en.wikipedia.org/wiki/Portal:New_York_City \n",
    "* https://en.wikipedia.org/wiki/Cuisine_of_New_York_City \n",
    "* https://en.wikipedia.org/wiki/List_of_Michelin_starred_restaurants_in_New_York_City\n",
    "\n",
    "New York City geographical coordinates data will be utilized as input for the Foursquare API, that will be leveraged to provision venues information for each neighborhood. We will use the Foursquare API to explore neighborhoods in New York City. The below is image of the Foursquare API data."
   ]
  },
  {
   "cell_type": "markdown",
   "metadata": {},
   "source": [
    "## Methodology"
   ]
  },
  {
   "cell_type": "markdown",
   "metadata": {},
   "source": [
    "The main motto of this project is to find the best location to open a new restaurant in NYC; based on competition in different localities & their population.\n",
    "\n",
    "So, to do this I have used two different data sets available as mentioned above. Those two data sets contain locality \n",
    "information of NYC, different age groups of people, & population.\n",
    "\n",
    "To solve this problem I am going to use the “K-Means Clustering Algorithm\". K-means clustering is a type of unsupervised learning, which is used when you have unlabeled data (i.e., data without defined categories or groups). The goal of this algorithm is to find groups in the data, with the number of groups represented by the variable K. The algorithm works iteratively to assign each data point to one of K groups based on the features that are provided. Data points are clustered based on feature similarity. The results of the K-means clustering algorithm are:\n",
    "\n",
    "* The centroids of the K clusters, which can be used to label new data labels for the training data (each data point is assigned to a single cluster).\n",
    "\n",
    "I will be utilizing different maps in-order to give a more clear vision to the target audience.\n",
    "\n",
    "Steps I took for the analysis:\n",
    "\n",
    "* Collected required data: location and type (category) of every restaurant within our lat and lng. We also have the particular type of resutaurants locality. \n",
    "\n",
    "* Explored the \"restaurant density\" across different areas of NYC - we will use K- means to identify a few promising areas close to the center with low number of restaurants & their type.\n",
    "\n",
    "* Explored the most promising areas & within those create clusters of locations that meet some basic requirements established in discussion with stakeholders. We will take into consideration locations with less restaurants in radius of 500 meters. We will also present the map of all such locations but also create clusters (using K-means clustering) of those locations to explore the neighborhoods.\n"
   ]
  },
  {
   "cell_type": "markdown",
   "metadata": {},
   "source": [
    "## Analysis"
   ]
  },
  {
   "cell_type": "markdown",
   "metadata": {},
   "source": [
    "### Data Identification, Capturing & Cleaning"
   ]
  },
  {
   "cell_type": "markdown",
   "metadata": {},
   "source": [
    "Search & identify the relevant data source & capture it. Here we are using Wikipedia to get data about New York City. Then we remove all the redundant values (Data Cleaning). Then we combine neighborhoods similar to the Bronx. Now the data is cleaned & ready to use."
   ]
  },
  {
   "cell_type": "markdown",
   "metadata": {},
   "source": [
    "### Combining Different Data Sources and Sorting Neighborhoods Based on Longitude & Latitude"
   ]
  },
  {
   "cell_type": "markdown",
   "metadata": {},
   "source": [
    "Now, we will combine the neighborhood datasets with the postal address' alongside the dataset with Latitude & Longitude and save them into seperate data frames. The resulting data frame will contain details about Postal Codes, Broughs, Neighborhoods, and Latitude & Longitude. We finally then visualize it using the folium map. "
   ]
  },
  {
   "cell_type": "markdown",
   "metadata": {},
   "source": [
    "### Explore the NYC's Neighborhoods"
   ]
  },
  {
   "cell_type": "markdown",
   "metadata": {},
   "source": [
    "Firstly, we explored all the neighborhoods in the city of New York using the Latitude & Longitude data, using the Foresquare API to get the restaurant venues available in NYC. Then, we explored the unique categories in the neighborhoods by filtering the venue details for all possible \"Chinese Restaurants\". Next, we found each neighborhood along with the top most common venues. Finally, we identified the top 10 venues for each neighborhood."
   ]
  },
  {
   "cell_type": "markdown",
   "metadata": {},
   "source": [
    "### Clustering"
   ]
  },
  {
   "cell_type": "markdown",
   "metadata": {},
   "source": [
    "With an assumption of five clusters, we use the K-Cluster algorithm to come up with five different clusters in NYC with a similar set of venues. We then explore each cluster & determine the discriminating venue categories that distinguishes each cluster. Identify the clusters & Boroughs/Neighborhoods with maximum number restaurants & their types."
   ]
  },
  {
   "cell_type": "markdown",
   "metadata": {},
   "source": [
    "### Results & Discussion"
   ]
  },
  {
   "cell_type": "markdown",
   "metadata": {},
   "source": [
    "The results of our analysis showed below:"
   ]
  },
  {
   "cell_type": "markdown",
   "metadata": {},
   "source": [
    "1.) We see that Queens has the highest number of Neighborhoods"
   ]
  },
  {
   "cell_type": "markdown",
   "metadata": {},
   "source": [
    "![image.png](NYC_1.png)"
   ]
  },
  {
   "cell_type": "markdown",
   "metadata": {},
   "source": [
    "2.) Queens also has the highest number of Chinese Restaurants"
   ]
  },
  {
   "cell_type": "markdown",
   "metadata": {},
   "source": [
    "![image.png](NYC_2.png)"
   ]
  },
  {
   "cell_type": "markdown",
   "metadata": {},
   "source": [
    "3.) Chinatown in Manhattan has the highest number of Chinese Restaurants"
   ]
  },
  {
   "cell_type": "markdown",
   "metadata": {},
   "source": [
    "![image.png](NYC_3.png)"
   ]
  },
  {
   "cell_type": "markdown",
   "metadata": {},
   "source": [
    "## Discussion Section "
   ]
  },
  {
   "cell_type": "markdown",
   "metadata": {},
   "source": [
    "Based on the results of our analysis, I would state that Manhattan & Brooklyn are the best locations for Chinese cuisines in NYC. To have the best shot of success, I would open a Chinese restaurant in Brooklyn. Brooklyn has multiple neighborhoods with average ratings exceeding 8.0 on a scale of 1.0 to 10.0 and has less amount of Chinese restaurants than Manhattan, making competition easier. In addition, we should keep in mind that real estate prices in Brooklyn are much cheaper than in Manhattan. Particularly, I would recommend considering opening a Chinese Restaurant either in Cobble Hill or in North Side, because both of these neighborhoods have the highest rating for Chinese restaurants."
   ]
  },
  {
   "cell_type": "markdown",
   "metadata": {},
   "source": [
    "### Limitations & Suggestions for Future Researches"
   ]
  },
  {
   "cell_type": "markdown",
   "metadata": {},
   "source": [
    "All of the above analysis depends on the accuracy of the Four Square data. During this project, we used a free Sandbox Tier Account of Foursquare API that goes with limitations as to the number of API calls & results returned. To get better results, future research work & more comprehensive analysis could consider using a paid account to bypass these limitations as well as incorporating data from other external databases."
   ]
  },
  {
   "cell_type": "markdown",
   "metadata": {},
   "source": [
    "## Conclusions"
   ]
  },
  {
   "cell_type": "markdown",
   "metadata": {},
   "source": [
    "In the project we have gone through the process of identifying the business problem, specifying the data required, extracting & preparing the data, performing data analysis, and lastly providing recommendations to the investors/developers. During the project, we applied different data science methods & instruments to get the answer to our main question: “Where in the City of New York,should the investor open a Chinese Restaurant?” The findings of this project will help the relevant investor better understand the advantages & disadvantages of different New York neighborhoods/boroughs in terms of opening a Chinese restaurant."
   ]
  },
  {
   "cell_type": "code",
   "execution_count": null,
   "metadata": {},
   "outputs": [],
   "source": []
  },
  {
   "cell_type": "code",
   "execution_count": null,
   "metadata": {},
   "outputs": [],
   "source": []
  },
  {
   "cell_type": "code",
   "execution_count": null,
   "metadata": {},
   "outputs": [],
   "source": []
  },
  {
   "cell_type": "code",
   "execution_count": null,
   "metadata": {},
   "outputs": [],
   "source": []
  },
  {
   "cell_type": "code",
   "execution_count": null,
   "metadata": {},
   "outputs": [],
   "source": []
  }
 ],
 "metadata": {
  "kernelspec": {
   "display_name": "Python 3",
   "language": "python",
   "name": "python3"
  },
  "language_info": {
   "codemirror_mode": {
    "name": "ipython",
    "version": 3
   },
   "file_extension": ".py",
   "mimetype": "text/x-python",
   "name": "python",
   "nbconvert_exporter": "python",
   "pygments_lexer": "ipython3",
   "version": "3.7.4"
  }
 },
 "nbformat": 4,
 "nbformat_minor": 2
}
